{
 "cells": [
  {
   "cell_type": "code",
   "execution_count": 1,
   "id": "69b2f6e9",
   "metadata": {},
   "outputs": [],
   "source": [
    "import pandas as pd\n",
    "import numpy as np\n",
    "import matplotlib.pyplot as plt\n",
    "from datetime import datetime\n",
    "from datetime import timedelta\n",
    "from pandas.plotting import register_matplotlib_converters\n",
    "from statsmodels.tsa.stattools import acf, pacf\n",
    "from statsmodels.tsa.statespace.sarimax import SARIMAX\n",
    "register_matplotlib_converters()\n",
    "from time import time"
   ]
  },
  {
   "cell_type": "code",
   "execution_count": 2,
   "id": "c295ba3c",
   "metadata": {},
   "outputs": [],
   "source": [
    "df= pd.read_csv('full_month_grid.csv')"
   ]
  },
  {
   "cell_type": "code",
   "execution_count": 3,
   "id": "58c161bf",
   "metadata": {},
   "outputs": [
    {
     "data": {
      "text/html": [
       "<div>\n",
       "<style scoped>\n",
       "    .dataframe tbody tr th:only-of-type {\n",
       "        vertical-align: middle;\n",
       "    }\n",
       "\n",
       "    .dataframe tbody tr th {\n",
       "        vertical-align: top;\n",
       "    }\n",
       "\n",
       "    .dataframe thead th {\n",
       "        text-align: right;\n",
       "    }\n",
       "</style>\n",
       "<table border=\"1\" class=\"dataframe\">\n",
       "  <thead>\n",
       "    <tr style=\"text-align: right;\">\n",
       "      <th></th>\n",
       "      <th>Unnamed: 0</th>\n",
       "      <th>time</th>\n",
       "      <th>grid_num</th>\n",
       "      <th>rate</th>\n",
       "    </tr>\n",
       "  </thead>\n",
       "  <tbody>\n",
       "    <tr>\n",
       "      <th>0</th>\n",
       "      <td>0</td>\n",
       "      <td>2013-11-01 00:00:00</td>\n",
       "      <td>1</td>\n",
       "      <td>11.621593</td>\n",
       "    </tr>\n",
       "    <tr>\n",
       "      <th>1</th>\n",
       "      <td>1</td>\n",
       "      <td>2013-11-01 00:00:00</td>\n",
       "      <td>2</td>\n",
       "      <td>11.647701</td>\n",
       "    </tr>\n",
       "    <tr>\n",
       "      <th>2</th>\n",
       "      <td>2</td>\n",
       "      <td>2013-11-01 00:00:00</td>\n",
       "      <td>3</td>\n",
       "      <td>11.675491</td>\n",
       "    </tr>\n",
       "    <tr>\n",
       "      <th>3</th>\n",
       "      <td>3</td>\n",
       "      <td>2013-11-01 00:00:00</td>\n",
       "      <td>4</td>\n",
       "      <td>11.545972</td>\n",
       "    </tr>\n",
       "    <tr>\n",
       "      <th>4</th>\n",
       "      <td>4</td>\n",
       "      <td>2013-11-01 00:00:00</td>\n",
       "      <td>5</td>\n",
       "      <td>10.479600</td>\n",
       "    </tr>\n",
       "  </tbody>\n",
       "</table>\n",
       "</div>"
      ],
      "text/plain": [
       "   Unnamed: 0                 time  grid_num       rate\n",
       "0           0  2013-11-01 00:00:00         1  11.621593\n",
       "1           1  2013-11-01 00:00:00         2  11.647701\n",
       "2           2  2013-11-01 00:00:00         3  11.675491\n",
       "3           3  2013-11-01 00:00:00         4  11.545972\n",
       "4           4  2013-11-01 00:00:00         5  10.479600"
      ]
     },
     "execution_count": 3,
     "metadata": {},
     "output_type": "execute_result"
    }
   ],
   "source": [
    "df.head()"
   ]
  },
  {
   "cell_type": "code",
   "execution_count": 4,
   "id": "fd6ffc3f",
   "metadata": {},
   "outputs": [
    {
     "data": {
      "text/plain": [
       "(90687616, 4)"
      ]
     },
     "execution_count": 4,
     "metadata": {},
     "output_type": "execute_result"
    }
   ],
   "source": [
    "df.shape"
   ]
  },
  {
   "cell_type": "code",
   "execution_count": 5,
   "id": "d771c3b4",
   "metadata": {},
   "outputs": [
    {
     "data": {
      "text/plain": [
       "Unnamed: 0       0\n",
       "time             0\n",
       "grid_num         0\n",
       "rate          2761\n",
       "dtype: int64"
      ]
     },
     "execution_count": 5,
     "metadata": {},
     "output_type": "execute_result"
    }
   ],
   "source": [
    "df.isna().sum()"
   ]
  },
  {
   "cell_type": "code",
   "execution_count": 6,
   "id": "2260c0a5",
   "metadata": {},
   "outputs": [],
   "source": [
    "df.drop(columns=['Unnamed: 0'], inplace=True)"
   ]
  },
  {
   "cell_type": "code",
   "execution_count": 7,
   "id": "3a2e70c7",
   "metadata": {},
   "outputs": [
    {
     "data": {
      "text/html": [
       "<div>\n",
       "<style scoped>\n",
       "    .dataframe tbody tr th:only-of-type {\n",
       "        vertical-align: middle;\n",
       "    }\n",
       "\n",
       "    .dataframe tbody tr th {\n",
       "        vertical-align: top;\n",
       "    }\n",
       "\n",
       "    .dataframe thead th {\n",
       "        text-align: right;\n",
       "    }\n",
       "</style>\n",
       "<table border=\"1\" class=\"dataframe\">\n",
       "  <thead>\n",
       "    <tr style=\"text-align: right;\">\n",
       "      <th></th>\n",
       "      <th>time</th>\n",
       "      <th>grid_num</th>\n",
       "      <th>rate</th>\n",
       "    </tr>\n",
       "  </thead>\n",
       "  <tbody>\n",
       "    <tr>\n",
       "      <th>0</th>\n",
       "      <td>2013-11-01 00:00:00</td>\n",
       "      <td>1</td>\n",
       "      <td>11.621593</td>\n",
       "    </tr>\n",
       "    <tr>\n",
       "      <th>1</th>\n",
       "      <td>2013-11-01 00:00:00</td>\n",
       "      <td>2</td>\n",
       "      <td>11.647701</td>\n",
       "    </tr>\n",
       "    <tr>\n",
       "      <th>2</th>\n",
       "      <td>2013-11-01 00:00:00</td>\n",
       "      <td>3</td>\n",
       "      <td>11.675491</td>\n",
       "    </tr>\n",
       "    <tr>\n",
       "      <th>3</th>\n",
       "      <td>2013-11-01 00:00:00</td>\n",
       "      <td>4</td>\n",
       "      <td>11.545972</td>\n",
       "    </tr>\n",
       "    <tr>\n",
       "      <th>4</th>\n",
       "      <td>2013-11-01 00:00:00</td>\n",
       "      <td>5</td>\n",
       "      <td>10.479600</td>\n",
       "    </tr>\n",
       "  </tbody>\n",
       "</table>\n",
       "</div>"
      ],
      "text/plain": [
       "                  time  grid_num       rate\n",
       "0  2013-11-01 00:00:00         1  11.621593\n",
       "1  2013-11-01 00:00:00         2  11.647701\n",
       "2  2013-11-01 00:00:00         3  11.675491\n",
       "3  2013-11-01 00:00:00         4  11.545972\n",
       "4  2013-11-01 00:00:00         5  10.479600"
      ]
     },
     "execution_count": 7,
     "metadata": {},
     "output_type": "execute_result"
    }
   ],
   "source": [
    "df.head()"
   ]
  },
  {
   "cell_type": "code",
   "execution_count": 8,
   "id": "7f9de91a",
   "metadata": {},
   "outputs": [],
   "source": [
    "df[\"time\"] = pd.to_datetime(df[\"time\"])\n",
    "df = df.set_index(\"time\")"
   ]
  },
  {
   "cell_type": "code",
   "execution_count": 10,
   "id": "6cc35920",
   "metadata": {},
   "outputs": [
    {
     "data": {
      "text/html": [
       "<div>\n",
       "<style scoped>\n",
       "    .dataframe tbody tr th:only-of-type {\n",
       "        vertical-align: middle;\n",
       "    }\n",
       "\n",
       "    .dataframe tbody tr th {\n",
       "        vertical-align: top;\n",
       "    }\n",
       "\n",
       "    .dataframe thead th {\n",
       "        text-align: right;\n",
       "    }\n",
       "</style>\n",
       "<table border=\"1\" class=\"dataframe\">\n",
       "  <thead>\n",
       "    <tr style=\"text-align: right;\">\n",
       "      <th></th>\n",
       "      <th>grid_num</th>\n",
       "      <th>rate</th>\n",
       "    </tr>\n",
       "    <tr>\n",
       "      <th>time</th>\n",
       "      <th></th>\n",
       "      <th></th>\n",
       "    </tr>\n",
       "  </thead>\n",
       "  <tbody>\n",
       "    <tr>\n",
       "      <th>2013-11-01</th>\n",
       "      <td>1</td>\n",
       "      <td>11.621593</td>\n",
       "    </tr>\n",
       "    <tr>\n",
       "      <th>2013-11-01</th>\n",
       "      <td>2</td>\n",
       "      <td>11.647701</td>\n",
       "    </tr>\n",
       "    <tr>\n",
       "      <th>2013-11-01</th>\n",
       "      <td>3</td>\n",
       "      <td>11.675491</td>\n",
       "    </tr>\n",
       "    <tr>\n",
       "      <th>2013-11-01</th>\n",
       "      <td>4</td>\n",
       "      <td>11.545972</td>\n",
       "    </tr>\n",
       "    <tr>\n",
       "      <th>2013-11-01</th>\n",
       "      <td>5</td>\n",
       "      <td>10.479600</td>\n",
       "    </tr>\n",
       "  </tbody>\n",
       "</table>\n",
       "</div>"
      ],
      "text/plain": [
       "            grid_num       rate\n",
       "time                           \n",
       "2013-11-01         1  11.621593\n",
       "2013-11-01         2  11.647701\n",
       "2013-11-01         3  11.675491\n",
       "2013-11-01         4  11.545972\n",
       "2013-11-01         5  10.479600"
      ]
     },
     "execution_count": 10,
     "metadata": {},
     "output_type": "execute_result"
    }
   ],
   "source": [
    "df.head()"
   ]
  },
  {
   "cell_type": "code",
   "execution_count": 9,
   "id": "0d86716b",
   "metadata": {},
   "outputs": [
    {
     "name": "stdout",
     "output_type": "stream",
     "text": [
      "<class 'pandas.core.frame.DataFrame'>\n",
      "DatetimeIndex: 90687616 entries, 2013-11-01 00:00:00 to 2014-01-01 23:50:00\n",
      "Data columns (total 2 columns):\n",
      " #   Column    Dtype  \n",
      "---  ------    -----  \n",
      " 0   grid_num  int64  \n",
      " 1   rate      float64\n",
      "dtypes: float64(1), int64(1)\n",
      "memory usage: 2.0 GB\n"
     ]
    }
   ],
   "source": [
    "df.info()"
   ]
  },
  {
   "cell_type": "code",
   "execution_count": 11,
   "id": "e8545054",
   "metadata": {},
   "outputs": [],
   "source": [
    "df = df.groupby(\"time\").sum()"
   ]
  },
  {
   "cell_type": "code",
   "execution_count": 12,
   "id": "a8eb8464",
   "metadata": {},
   "outputs": [
    {
     "name": "stdout",
     "output_type": "stream",
     "text": [
      "<class 'pandas.core.frame.DataFrame'>\n",
      "DatetimeIndex: 8928 entries, 2013-11-01 00:00:00 to 2014-01-01 23:50:00\n",
      "Data columns (total 2 columns):\n",
      " #   Column    Non-Null Count  Dtype  \n",
      "---  ------    --------------  -----  \n",
      " 0   grid_num  8928 non-null   int64  \n",
      " 1   rate      8928 non-null   float64\n",
      "dtypes: float64(1), int64(1)\n",
      "memory usage: 209.2 KB\n"
     ]
    }
   ],
   "source": [
    "df.info()"
   ]
  },
  {
   "cell_type": "code",
   "execution_count": 14,
   "id": "3a58cf5d",
   "metadata": {},
   "outputs": [
    {
     "data": {
      "text/plain": [
       "(8928, 2)"
      ]
     },
     "execution_count": 14,
     "metadata": {},
     "output_type": "execute_result"
    }
   ],
   "source": [
    "df.shape"
   ]
  },
  {
   "cell_type": "code",
   "execution_count": 15,
   "id": "0f214c84",
   "metadata": {},
   "outputs": [
    {
     "data": {
      "text/html": [
       "<div>\n",
       "<style scoped>\n",
       "    .dataframe tbody tr th:only-of-type {\n",
       "        vertical-align: middle;\n",
       "    }\n",
       "\n",
       "    .dataframe tbody tr th {\n",
       "        vertical-align: top;\n",
       "    }\n",
       "\n",
       "    .dataframe thead th {\n",
       "        text-align: right;\n",
       "    }\n",
       "</style>\n",
       "<table border=\"1\" class=\"dataframe\">\n",
       "  <thead>\n",
       "    <tr style=\"text-align: right;\">\n",
       "      <th></th>\n",
       "      <th>grid_num</th>\n",
       "      <th>rate</th>\n",
       "    </tr>\n",
       "    <tr>\n",
       "      <th>time</th>\n",
       "      <th></th>\n",
       "      <th></th>\n",
       "    </tr>\n",
       "  </thead>\n",
       "  <tbody>\n",
       "    <tr>\n",
       "      <th>2013-11-01 00:00:00</th>\n",
       "      <td>50005000</td>\n",
       "      <td>710841.049680</td>\n",
       "    </tr>\n",
       "    <tr>\n",
       "      <th>2013-11-01 00:10:00</th>\n",
       "      <td>50005000</td>\n",
       "      <td>689606.902359</td>\n",
       "    </tr>\n",
       "    <tr>\n",
       "      <th>2013-11-01 00:20:00</th>\n",
       "      <td>50005000</td>\n",
       "      <td>673841.228490</td>\n",
       "    </tr>\n",
       "    <tr>\n",
       "      <th>2013-11-01 00:30:00</th>\n",
       "      <td>50005000</td>\n",
       "      <td>641464.168550</td>\n",
       "    </tr>\n",
       "    <tr>\n",
       "      <th>2013-11-01 00:40:00</th>\n",
       "      <td>50005000</td>\n",
       "      <td>623366.124033</td>\n",
       "    </tr>\n",
       "  </tbody>\n",
       "</table>\n",
       "</div>"
      ],
      "text/plain": [
       "                     grid_num           rate\n",
       "time                                        \n",
       "2013-11-01 00:00:00  50005000  710841.049680\n",
       "2013-11-01 00:10:00  50005000  689606.902359\n",
       "2013-11-01 00:20:00  50005000  673841.228490\n",
       "2013-11-01 00:30:00  50005000  641464.168550\n",
       "2013-11-01 00:40:00  50005000  623366.124033"
      ]
     },
     "execution_count": 15,
     "metadata": {},
     "output_type": "execute_result"
    }
   ],
   "source": [
    "df.head()"
   ]
  },
  {
   "cell_type": "code",
   "execution_count": 16,
   "id": "ea4e7548",
   "metadata": {},
   "outputs": [],
   "source": [
    "df.drop(columns = [\"grid_num\"], inplace = True)"
   ]
  },
  {
   "cell_type": "code",
   "execution_count": 17,
   "id": "fcd381a2",
   "metadata": {},
   "outputs": [
    {
     "data": {
      "text/html": [
       "<div>\n",
       "<style scoped>\n",
       "    .dataframe tbody tr th:only-of-type {\n",
       "        vertical-align: middle;\n",
       "    }\n",
       "\n",
       "    .dataframe tbody tr th {\n",
       "        vertical-align: top;\n",
       "    }\n",
       "\n",
       "    .dataframe thead th {\n",
       "        text-align: right;\n",
       "    }\n",
       "</style>\n",
       "<table border=\"1\" class=\"dataframe\">\n",
       "  <thead>\n",
       "    <tr style=\"text-align: right;\">\n",
       "      <th></th>\n",
       "      <th>rate</th>\n",
       "    </tr>\n",
       "    <tr>\n",
       "      <th>time</th>\n",
       "      <th></th>\n",
       "    </tr>\n",
       "  </thead>\n",
       "  <tbody>\n",
       "    <tr>\n",
       "      <th>2013-11-01 00:00:00</th>\n",
       "      <td>710841.049680</td>\n",
       "    </tr>\n",
       "    <tr>\n",
       "      <th>2013-11-01 00:10:00</th>\n",
       "      <td>689606.902359</td>\n",
       "    </tr>\n",
       "    <tr>\n",
       "      <th>2013-11-01 00:20:00</th>\n",
       "      <td>673841.228490</td>\n",
       "    </tr>\n",
       "    <tr>\n",
       "      <th>2013-11-01 00:30:00</th>\n",
       "      <td>641464.168550</td>\n",
       "    </tr>\n",
       "    <tr>\n",
       "      <th>2013-11-01 00:40:00</th>\n",
       "      <td>623366.124033</td>\n",
       "    </tr>\n",
       "  </tbody>\n",
       "</table>\n",
       "</div>"
      ],
      "text/plain": [
       "                              rate\n",
       "time                              \n",
       "2013-11-01 00:00:00  710841.049680\n",
       "2013-11-01 00:10:00  689606.902359\n",
       "2013-11-01 00:20:00  673841.228490\n",
       "2013-11-01 00:30:00  641464.168550\n",
       "2013-11-01 00:40:00  623366.124033"
      ]
     },
     "execution_count": 17,
     "metadata": {},
     "output_type": "execute_result"
    }
   ],
   "source": [
    "df.head()"
   ]
  },
  {
   "cell_type": "code",
   "execution_count": null,
   "id": "3b4d1d54",
   "metadata": {},
   "outputs": [],
   "source": [
    "df.to_csv(\"full_month_grid.csv\")"
   ]
  },
  {
   "cell_type": "code",
   "execution_count": 23,
   "id": "6c33a86e",
   "metadata": {},
   "outputs": [
    {
     "data": {
      "image/png": "[encoded data removed]",
      "text/plain": [
       "<Figure size 720x288 with 1 Axes>"
      ]
     },
     "metadata": {
      "needs_background": "light"
     },
     "output_type": "display_data"
    }
   ],
   "source": [
    "plt.figure(figsize=(10,4))\n",
    "plt.plot(df)\n",
    "plt.title('Rate VS. grid', fontsize=20)\n",
    "plt.ylabel('rate', fontsize=16)\n",
    "start_date = datetime(2013,11,1)\n",
    "end_date = datetime(2014,1,1)\n",
    "for year in range(start_date.year,end_date.year):\n",
    "    plt.axvline(pd.to_datetime(str(year)+'-11-01'), color='k', linestyle='--', alpha=0.2)"
   ]
  },
  {
   "cell_type": "code",
   "execution_count": null,
   "id": "32fbb5ad",
   "metadata": {},
   "outputs": [],
   "source": []
  }
 ],
 "metadata": {
  "kernelspec": {
   "display_name": "Python 3",
   "language": "python",
   "name": "python3"
  },
  "language_info": {
   "codemirror_mode": {
    "name": "ipython",
    "version": 3
   },
   "file_extension": ".py",
   "mimetype": "text/x-python",
   "name": "python",
   "nbconvert_exporter": "python",
   "pygments_lexer": "ipython3",
   "version": "3.8.8"
  }
 },
 "nbformat": 4,
 "nbformat_minor": 5
}
